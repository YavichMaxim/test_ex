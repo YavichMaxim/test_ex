{
 "cells": [
  {
   "cell_type": "code",
   "execution_count": 2,
   "id": "e60e7a86",
   "metadata": {},
   "outputs": [],
   "source": [
    "import pandas as pd"
   ]
  },
  {
   "cell_type": "code",
   "execution_count": 318,
   "id": "33e7a91a",
   "metadata": {},
   "outputs": [],
   "source": [
    "dt_links=pd.read_csv(\"links.csv\",encoding=\"utf-8\")\n",
    "dt_movies=pd.read_csv(\"movies.csv\",encoding=\"utf-8\")\n",
    "dt_tags=pd.read_csv(\"tags.csv\",encoding=\"utf-8\")\n",
    "dt_ratings=pd.read_csv(\"ratings.csv\",encoding=\"utf-8\")\n",
    "parsed_films=pd.read_csv(\"films_parsed.csv\",encoding=\"utf-8\")\n",
    "user_films=pd.read_csv(\"users_films.csv\",encoding=\"utf-8\")"
   ]
  },
  {
   "cell_type": "code",
   "execution_count": 247,
   "id": "4b9e0039",
   "metadata": {
    "scrolled": false
   },
   "outputs": [
    {
     "data": {
      "text/plain": [
       "0        1.0\n",
       "1        2.0\n",
       "2        3.0\n",
       "3        4.0\n",
       "4        5.0\n",
       "       ...  \n",
       "605    606.0\n",
       "606    607.0\n",
       "607    608.0\n",
       "608    609.0\n",
       "609    610.0\n",
       "Name: userId, Length: 610, dtype: float64"
      ]
     },
     "execution_count": 247,
     "metadata": {},
     "output_type": "execute_result"
    }
   ],
   "source": [
    "user_films.pop('userId')"
   ]
  },
  {
   "cell_type": "code",
   "execution_count": null,
   "id": "46f7a82e",
   "metadata": {},
   "outputs": [],
   "source": [
    "users_films=user_films.copy"
   ]
  },
  {
   "cell_type": "markdown",
   "id": "09dd11f1",
   "metadata": {},
   "source": [
    "![vase](wr.png)"
   ]
  },
  {
   "cell_type": "markdown",
   "id": "364bf902",
   "metadata": {},
   "source": [
    "v количество отзывов \n",
    "m минимальное количесчтво отзывов для чарта\n",
    "R средний рейтинг фильм\n",
    "C средний рейтинг по всем фильмам"
   ]
  },
  {
   "cell_type": "code",
   "execution_count": 30,
   "id": "6928ee15",
   "metadata": {},
   "outputs": [],
   "source": [
    "def getAverageRatings(users_films, if_user):\n",
    "    \"\"\"Funtion calculating average rating by user or for film\n",
    "\n",
    "    Args:\n",
    "        users_films (DataFrame): Table with users and films they rated/viewed.\n",
    "        if_user (bool): this telling us calculate for user/film.\n",
    "\n",
    "    Returns:\n",
    "        dict: Avarege rating for each movie or user.\n",
    "\n",
    "    \"\"\"\n",
    "\n",
    "    ax = 1 if if_user else 0\n",
    "    #axis = 1 means rows and axis = 0 means columns \n",
    "    sumOfRatings = users_films.sum(axis = ax).to_numpy() #this will give an array of sum of all the ratings of user if axis = 1 else \n",
    "    #sum of all the ratings of movies if axis = 0\n",
    "    noOfRatings = (users_films!=0).sum(axis = ax).to_numpy()  #this will give a boolean True or False array, and True means 1 and False \n",
    "    #means 0, and further we are summing it to get the count of all the non-zero cells means length of non-zero cells\n",
    "    rows, cols = users_films.shape\n",
    "    averageRatings = {i: sumOfRatings[i]/noOfRatings[i] for i in range(rows if if_user else cols) if noOfRatings[i]!=0}\n",
    "    return averageRatings"
   ]
  },
  {
   "cell_type": "code",
   "execution_count": 62,
   "id": "e2e18367",
   "metadata": {},
   "outputs": [],
   "source": [
    "avg_raring_per_movie = list(getAverageRatings(user_films, False).values())"
   ]
  },
  {
   "cell_type": "code",
   "execution_count": 68,
   "id": "5cae97d7",
   "metadata": {},
   "outputs": [],
   "source": [
    "def Average(lst):\n",
    "    return sum(lst) / len(lst)"
   ]
  },
  {
   "cell_type": "code",
   "execution_count": 69,
   "id": "0b243762",
   "metadata": {},
   "outputs": [],
   "source": [
    "C=Average(avg_raring_per_movie)"
   ]
  },
  {
   "cell_type": "code",
   "execution_count": 78,
   "id": "f653f2a0",
   "metadata": {},
   "outputs": [],
   "source": [
    "dt_ratings_2= dt_ratings.groupby(['movieId']).count()"
   ]
  },
  {
   "cell_type": "code",
   "execution_count": 80,
   "id": "c96beef3",
   "metadata": {},
   "outputs": [],
   "source": [
    "dt_ratings_2=dt_ratings_2.loc[dt_ratings_2['userId'] > 1]"
   ]
  },
  {
   "cell_type": "code",
   "execution_count": 84,
   "id": "117d61cd",
   "metadata": {},
   "outputs": [],
   "source": [
    "m=dt_ratings_2['userId'].quantile(0.9)"
   ]
  },
  {
   "cell_type": "code",
   "execution_count": 85,
   "id": "64be4a01",
   "metadata": {},
   "outputs": [],
   "source": [
    "q_movies = dt_ratings_2.copy().loc[dt_ratings_2['userId'] >= m]"
   ]
  },
  {
   "cell_type": "code",
   "execution_count": 88,
   "id": "480d9205",
   "metadata": {},
   "outputs": [
    {
     "data": {
      "text/html": [
       "<div>\n",
       "<style scoped>\n",
       "    .dataframe tbody tr th:only-of-type {\n",
       "        vertical-align: middle;\n",
       "    }\n",
       "\n",
       "    .dataframe tbody tr th {\n",
       "        vertical-align: top;\n",
       "    }\n",
       "\n",
       "    .dataframe thead th {\n",
       "        text-align: right;\n",
       "    }\n",
       "</style>\n",
       "<table border=\"1\" class=\"dataframe\">\n",
       "  <thead>\n",
       "    <tr style=\"text-align: right;\">\n",
       "      <th></th>\n",
       "      <th>userId</th>\n",
       "      <th>rating</th>\n",
       "      <th>timestamp</th>\n",
       "    </tr>\n",
       "    <tr>\n",
       "      <th>movieId</th>\n",
       "      <th></th>\n",
       "      <th></th>\n",
       "      <th></th>\n",
       "    </tr>\n",
       "  </thead>\n",
       "  <tbody>\n",
       "    <tr>\n",
       "      <th>1</th>\n",
       "      <td>215</td>\n",
       "      <td>215</td>\n",
       "      <td>215</td>\n",
       "    </tr>\n",
       "    <tr>\n",
       "      <th>2</th>\n",
       "      <td>110</td>\n",
       "      <td>110</td>\n",
       "      <td>110</td>\n",
       "    </tr>\n",
       "    <tr>\n",
       "      <th>3</th>\n",
       "      <td>52</td>\n",
       "      <td>52</td>\n",
       "      <td>52</td>\n",
       "    </tr>\n",
       "    <tr>\n",
       "      <th>5</th>\n",
       "      <td>49</td>\n",
       "      <td>49</td>\n",
       "      <td>49</td>\n",
       "    </tr>\n",
       "    <tr>\n",
       "      <th>6</th>\n",
       "      <td>102</td>\n",
       "      <td>102</td>\n",
       "      <td>102</td>\n",
       "    </tr>\n",
       "    <tr>\n",
       "      <th>...</th>\n",
       "      <td>...</td>\n",
       "      <td>...</td>\n",
       "      <td>...</td>\n",
       "    </tr>\n",
       "    <tr>\n",
       "      <th>122882</th>\n",
       "      <td>47</td>\n",
       "      <td>47</td>\n",
       "      <td>47</td>\n",
       "    </tr>\n",
       "    <tr>\n",
       "      <th>122886</th>\n",
       "      <td>41</td>\n",
       "      <td>41</td>\n",
       "      <td>41</td>\n",
       "    </tr>\n",
       "    <tr>\n",
       "      <th>122904</th>\n",
       "      <td>54</td>\n",
       "      <td>54</td>\n",
       "      <td>54</td>\n",
       "    </tr>\n",
       "    <tr>\n",
       "      <th>134130</th>\n",
       "      <td>48</td>\n",
       "      <td>48</td>\n",
       "      <td>48</td>\n",
       "    </tr>\n",
       "    <tr>\n",
       "      <th>134853</th>\n",
       "      <td>43</td>\n",
       "      <td>43</td>\n",
       "      <td>43</td>\n",
       "    </tr>\n",
       "  </tbody>\n",
       "</table>\n",
       "<p>638 rows × 3 columns</p>\n",
       "</div>"
      ],
      "text/plain": [
       "         userId  rating  timestamp\n",
       "movieId                           \n",
       "1           215     215        215\n",
       "2           110     110        110\n",
       "3            52      52         52\n",
       "5            49      49         49\n",
       "6           102     102        102\n",
       "...         ...     ...        ...\n",
       "122882       47      47         47\n",
       "122886       41      41         41\n",
       "122904       54      54         54\n",
       "134130       48      48         48\n",
       "134853       43      43         43\n",
       "\n",
       "[638 rows x 3 columns]"
      ]
     },
     "execution_count": 88,
     "metadata": {},
     "output_type": "execute_result"
    }
   ],
   "source": [
    "q_movies"
   ]
  },
  {
   "cell_type": "code",
   "execution_count": 89,
   "id": "b0da2cc5",
   "metadata": {},
   "outputs": [],
   "source": [
    "avg_raring_per_movie = getAverageRatings(user_films, False)"
   ]
  },
  {
   "cell_type": "code",
   "execution_count": 105,
   "id": "10346fd2",
   "metadata": {},
   "outputs": [],
   "source": [
    "movies_merged=pd.merge(dt_movies, dt_ratings.groupby(['movieId']).count(), on='movieId', how='inner')"
   ]
  },
  {
   "cell_type": "code",
   "execution_count": 106,
   "id": "a607e16f",
   "metadata": {},
   "outputs": [],
   "source": [
    "movies_merged=movies_merged.loc[movies_merged['userId'] > 1]"
   ]
  },
  {
   "cell_type": "code",
   "execution_count": 107,
   "id": "19e9ae15",
   "metadata": {},
   "outputs": [],
   "source": [
    "movies_merged['avg']=list(getAverageRatings(user_films, False).values())"
   ]
  },
  {
   "cell_type": "code",
   "execution_count": 104,
   "id": "c5ac7353",
   "metadata": {
    "scrolled": true
   },
   "outputs": [
    {
     "data": {
      "text/plain": [
       "6278"
      ]
     },
     "execution_count": 104,
     "metadata": {},
     "output_type": "execute_result"
    }
   ],
   "source": [
    "len(list(getAverageRatings(user_films, False).values()))"
   ]
  },
  {
   "cell_type": "code",
   "execution_count": 110,
   "id": "318857f8",
   "metadata": {},
   "outputs": [],
   "source": [
    "m=movies_merged['userId'].quantile(0.9)"
   ]
  },
  {
   "cell_type": "code",
   "execution_count": 111,
   "id": "f627e682",
   "metadata": {},
   "outputs": [],
   "source": [
    "q_movies = movies_merged.copy().loc[movies_merged['userId'] >= m]"
   ]
  },
  {
   "cell_type": "code",
   "execution_count": 113,
   "id": "a6988468",
   "metadata": {},
   "outputs": [],
   "source": [
    "def weighted_rating(x, m=m, C=C):\n",
    "    v = x['userId']\n",
    "    R = x['avg']\n",
    "    # Calculation based on the IMDB formula\n",
    "    return (v/(v+m) * R) + (m/(m+v) * C)"
   ]
  },
  {
   "cell_type": "code",
   "execution_count": 114,
   "id": "b1e325e3",
   "metadata": {},
   "outputs": [],
   "source": [
    "q_movies['score'] = q_movies.apply(weighted_rating, axis=1)\n"
   ]
  },
  {
   "cell_type": "code",
   "execution_count": 115,
   "id": "534125e9",
   "metadata": {},
   "outputs": [],
   "source": [
    "q_movies = q_movies.sort_values('score', ascending=False)\n"
   ]
  },
  {
   "cell_type": "code",
   "execution_count": 120,
   "id": "73ed4090",
   "metadata": {
    "scrolled": true
   },
   "outputs": [
    {
     "data": {
      "text/html": [
       "<div>\n",
       "<style scoped>\n",
       "    .dataframe tbody tr th:only-of-type {\n",
       "        vertical-align: middle;\n",
       "    }\n",
       "\n",
       "    .dataframe tbody tr th {\n",
       "        vertical-align: top;\n",
       "    }\n",
       "\n",
       "    .dataframe thead th {\n",
       "        text-align: right;\n",
       "    }\n",
       "</style>\n",
       "<table border=\"1\" class=\"dataframe\">\n",
       "  <thead>\n",
       "    <tr style=\"text-align: right;\">\n",
       "      <th></th>\n",
       "      <th>movieId</th>\n",
       "      <th>title</th>\n",
       "      <th>genres</th>\n",
       "      <th>userId</th>\n",
       "      <th>rating</th>\n",
       "      <th>timestamp</th>\n",
       "      <th>avg</th>\n",
       "      <th>score</th>\n",
       "    </tr>\n",
       "  </thead>\n",
       "  <tbody>\n",
       "    <tr>\n",
       "      <th>2037</th>\n",
       "      <td>2716</td>\n",
       "      <td>Ghostbusters (a.k.a. Ghost Busters) (1984)</td>\n",
       "      <td>Action|Comedy|Sci-Fi</td>\n",
       "      <td>120</td>\n",
       "      <td>120</td>\n",
       "      <td>120</td>\n",
       "      <td>4.666667</td>\n",
       "      <td>4.319590</td>\n",
       "    </tr>\n",
       "    <tr>\n",
       "      <th>4791</th>\n",
       "      <td>7153</td>\n",
       "      <td>Lord of the Rings: The Return of the King, The...</td>\n",
       "      <td>Action|Adventure|Drama|Fantasy</td>\n",
       "      <td>185</td>\n",
       "      <td>185</td>\n",
       "      <td>185</td>\n",
       "      <td>4.375000</td>\n",
       "      <td>4.180042</td>\n",
       "    </tr>\n",
       "    <tr>\n",
       "      <th>126</th>\n",
       "      <td>153</td>\n",
       "      <td>Batman Forever (1995)</td>\n",
       "      <td>Action|Adventure|Comedy|Crime</td>\n",
       "      <td>137</td>\n",
       "      <td>137</td>\n",
       "      <td>137</td>\n",
       "      <td>4.350000</td>\n",
       "      <td>4.107822</td>\n",
       "    </tr>\n",
       "    <tr>\n",
       "      <th>1266</th>\n",
       "      <td>1682</td>\n",
       "      <td>Truman Show, The (1998)</td>\n",
       "      <td>Comedy|Drama|Sci-Fi</td>\n",
       "      <td>125</td>\n",
       "      <td>125</td>\n",
       "      <td>125</td>\n",
       "      <td>4.323529</td>\n",
       "      <td>4.070155</td>\n",
       "    </tr>\n",
       "    <tr>\n",
       "      <th>6298</th>\n",
       "      <td>48516</td>\n",
       "      <td>Departed, The (2006)</td>\n",
       "      <td>Crime|Drama|Thriller</td>\n",
       "      <td>107</td>\n",
       "      <td>107</td>\n",
       "      <td>107</td>\n",
       "      <td>4.357143</td>\n",
       "      <td>4.063597</td>\n",
       "    </tr>\n",
       "    <tr>\n",
       "      <th>...</th>\n",
       "      <td>...</td>\n",
       "      <td>...</td>\n",
       "      <td>...</td>\n",
       "      <td>...</td>\n",
       "      <td>...</td>\n",
       "      <td>...</td>\n",
       "      <td>...</td>\n",
       "      <td>...</td>\n",
       "    </tr>\n",
       "    <tr>\n",
       "      <th>7439</th>\n",
       "      <td>81591</td>\n",
       "      <td>Black Swan (2010)</td>\n",
       "      <td>Drama|Thriller</td>\n",
       "      <td>42</td>\n",
       "      <td>42</td>\n",
       "      <td>42</td>\n",
       "      <td>1.125000</td>\n",
       "      <td>2.175420</td>\n",
       "    </tr>\n",
       "    <tr>\n",
       "      <th>6693</th>\n",
       "      <td>58559</td>\n",
       "      <td>Dark Knight, The (2008)</td>\n",
       "      <td>Action|Crime|Drama|IMAX</td>\n",
       "      <td>149</td>\n",
       "      <td>149</td>\n",
       "      <td>149</td>\n",
       "      <td>1.750000</td>\n",
       "      <td>2.073463</td>\n",
       "    </tr>\n",
       "    <tr>\n",
       "      <th>1729</th>\n",
       "      <td>2324</td>\n",
       "      <td>Life Is Beautiful (La Vita è bella) (1997)</td>\n",
       "      <td>Comedy|Drama|Romance|War</td>\n",
       "      <td>88</td>\n",
       "      <td>88</td>\n",
       "      <td>88</td>\n",
       "      <td>1.500000</td>\n",
       "      <td>2.055738</td>\n",
       "    </tr>\n",
       "    <tr>\n",
       "      <th>1733</th>\n",
       "      <td>2329</td>\n",
       "      <td>American History X (1998)</td>\n",
       "      <td>Crime|Drama</td>\n",
       "      <td>129</td>\n",
       "      <td>129</td>\n",
       "      <td>129</td>\n",
       "      <td>1.500000</td>\n",
       "      <td>1.920914</td>\n",
       "    </tr>\n",
       "    <tr>\n",
       "      <th>2077</th>\n",
       "      <td>2762</td>\n",
       "      <td>Sixth Sense, The (1999)</td>\n",
       "      <td>Drama|Horror|Mystery</td>\n",
       "      <td>179</td>\n",
       "      <td>179</td>\n",
       "      <td>179</td>\n",
       "      <td>1.500000</td>\n",
       "      <td>1.824815</td>\n",
       "    </tr>\n",
       "  </tbody>\n",
       "</table>\n",
       "<p>638 rows × 8 columns</p>\n",
       "</div>"
      ],
      "text/plain": [
       "      movieId                                              title  \\\n",
       "2037     2716         Ghostbusters (a.k.a. Ghost Busters) (1984)   \n",
       "4791     7153  Lord of the Rings: The Return of the King, The...   \n",
       "126       153                              Batman Forever (1995)   \n",
       "1266     1682                            Truman Show, The (1998)   \n",
       "6298    48516                               Departed, The (2006)   \n",
       "...       ...                                                ...   \n",
       "7439    81591                                  Black Swan (2010)   \n",
       "6693    58559                            Dark Knight, The (2008)   \n",
       "1729     2324         Life Is Beautiful (La Vita è bella) (1997)   \n",
       "1733     2329                          American History X (1998)   \n",
       "2077     2762                            Sixth Sense, The (1999)   \n",
       "\n",
       "                              genres  userId  rating  timestamp       avg  \\\n",
       "2037            Action|Comedy|Sci-Fi     120     120        120  4.666667   \n",
       "4791  Action|Adventure|Drama|Fantasy     185     185        185  4.375000   \n",
       "126    Action|Adventure|Comedy|Crime     137     137        137  4.350000   \n",
       "1266             Comedy|Drama|Sci-Fi     125     125        125  4.323529   \n",
       "6298            Crime|Drama|Thriller     107     107        107  4.357143   \n",
       "...                              ...     ...     ...        ...       ...   \n",
       "7439                  Drama|Thriller      42      42         42  1.125000   \n",
       "6693         Action|Crime|Drama|IMAX     149     149        149  1.750000   \n",
       "1729        Comedy|Drama|Romance|War      88      88         88  1.500000   \n",
       "1733                     Crime|Drama     129     129        129  1.500000   \n",
       "2077            Drama|Horror|Mystery     179     179        179  1.500000   \n",
       "\n",
       "         score  \n",
       "2037  4.319590  \n",
       "4791  4.180042  \n",
       "126   4.107822  \n",
       "1266  4.070155  \n",
       "6298  4.063597  \n",
       "...        ...  \n",
       "7439  2.175420  \n",
       "6693  2.073463  \n",
       "1729  2.055738  \n",
       "1733  1.920914  \n",
       "2077  1.824815  \n",
       "\n",
       "[638 rows x 8 columns]"
      ]
     },
     "execution_count": 120,
     "metadata": {},
     "output_type": "execute_result"
    }
   ],
   "source": [
    "q_movies"
   ]
  },
  {
   "cell_type": "code",
   "execution_count": 133,
   "id": "b8d58f28",
   "metadata": {},
   "outputs": [
    {
     "data": {
      "text/plain": [
       "4791"
      ]
     },
     "execution_count": 133,
     "metadata": {},
     "output_type": "execute_result"
    }
   ],
   "source": [
    "q_movies.loc[q_movies['movieId']==7153].index[0]"
   ]
  },
  {
   "cell_type": "code",
   "execution_count": 166,
   "id": "db8ff176",
   "metadata": {},
   "outputs": [],
   "source": [
    "def find_no_viewed(x,k):\n",
    "    if user_films[str(x)][k]==0:\n",
    "        return x\n",
    "    else:\n",
    "        pass\n",
    "    "
   ]
  },
  {
   "cell_type": "code",
   "execution_count": 183,
   "id": "894a9745",
   "metadata": {
    "scrolled": true
   },
   "outputs": [],
   "source": [
    "def recommend_for_user_k(k):\n",
    "    recomend=[]\n",
    "    for i in q_movies['movieId']:\n",
    "            if user_films[str(i)][k-1]==0:\n",
    "                recomend.append(q_movies.loc[q_movies['movieId']==i].index[0])\n",
    "            if len(recomend) == 10:\n",
    "                return recomend\n",
    "    "
   ]
  },
  {
   "cell_type": "code",
   "execution_count": 466,
   "id": "8b3a166b",
   "metadata": {},
   "outputs": [
    {
     "data": {
      "text/plain": [
       "[4791, 126, 1266, 6298, 3609, 4402, 277, 3539, 504, 276]"
      ]
     },
     "execution_count": 466,
     "metadata": {},
     "output_type": "execute_result"
    }
   ],
   "source": [
    "recommend_for_user_k(1)"
   ]
  },
  {
   "cell_type": "code",
   "execution_count": 203,
   "id": "280c4704",
   "metadata": {},
   "outputs": [
    {
     "data": {
      "text/plain": [
       "4.367965367965368"
      ]
     },
     "execution_count": 203,
     "metadata": {},
     "output_type": "execute_result"
    }
   ],
   "source": [
    "getAverageRatings(user_films, True)[0]"
   ]
  },
  {
   "cell_type": "code",
   "execution_count": 506,
   "id": "0247c64c",
   "metadata": {},
   "outputs": [],
   "source": [
    "n=0\n",
    "k=50\n",
    "deleted=[]\n",
    "for i in range (n,k):\n",
    "    dict_={}\n",
    "    p=10\n",
    "    avg = getAverageRatings(user_films, True)[i]\n",
    "    for j in movies_merged['movieId'].sample(frac = 1):\n",
    "        if user_films[str(j)][i]>avg:\n",
    "            dict_[(movies_merged[movies_merged['movieId']==j].index[0])]=user_films[str(j)][i]\n",
    "            p=p-1\n",
    "            user_films[str(j)][i]=0\n",
    "        if p==0 :\n",
    "            break\n",
    "    deleted.append(dict_)"
   ]
  },
  {
   "cell_type": "code",
   "execution_count": 507,
   "id": "840a3417",
   "metadata": {
    "scrolled": true
   },
   "outputs": [
    {
     "name": "stdout",
     "output_type": "stream",
     "text": [
      "0.2\n",
      "0.2\n",
      "0.0\n",
      "0.1\n",
      "0.2\n",
      "0.1\n",
      "0.4\n",
      "0.2\n",
      "0.0\n",
      "0.0\n",
      "0.1\n",
      "0.0\n",
      "0.0\n",
      "0.0\n",
      "0.1\n",
      "0.0\n",
      "0.1\n",
      "0.0\n",
      "0.1\n",
      "0.0\n",
      "0.0\n",
      "0.1\n",
      "0.0\n",
      "0.0\n",
      "0.2\n",
      "0.1\n",
      "0.0\n",
      "0.2\n",
      "0.1\n",
      "0.1\n",
      "0.0\n",
      "0.1\n",
      "0.1\n",
      "0.0\n",
      "0.0\n",
      "0.0\n",
      "0.1\n",
      "0.1\n",
      "0.0\n",
      "0.1\n",
      "0.1\n",
      "0.0\n",
      "0.0\n",
      "0.1\n",
      "0.0\n",
      "0.1\n",
      "0.0\n",
      "0.0\n",
      "0.0\n",
      "0.0\n",
      "avg precision: 0.3400000000000002\n"
     ]
    }
   ],
   "source": [
    "avg_prec=0.0\n",
    "for user in range(n+1,k+1):\n",
    "    count=0.0\n",
    "    recs=recommend_for_user_k(user)\n",
    "    for rec in recs:\n",
    "        if users_films[str(movies_merged['movieId'][rec])][user-1]>0:\n",
    "            count=count+1\n",
    "    count=count/10\n",
    "    print(count)\n",
    "    avg_prec=avg_prec+count\n",
    "print('avg precision:',avg_prec/10)\n",
    "            "
   ]
  },
  {
   "cell_type": "markdown",
   "id": "bfae4e52",
   "metadata": {},
   "source": [
    "0.1 avg precision на тестовой выборке"
   ]
  }
 ],
 "metadata": {
  "kernelspec": {
   "display_name": "Python 3",
   "language": "python",
   "name": "python3"
  },
  "language_info": {
   "codemirror_mode": {
    "name": "ipython",
    "version": 3
   },
   "file_extension": ".py",
   "mimetype": "text/x-python",
   "name": "python",
   "nbconvert_exporter": "python",
   "pygments_lexer": "ipython3",
   "version": "3.7.6"
  }
 },
 "nbformat": 4,
 "nbformat_minor": 5
}
