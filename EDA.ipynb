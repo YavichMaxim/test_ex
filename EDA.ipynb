{
 "cells": [
  {
   "cell_type": "code",
   "execution_count": 44,
   "id": "115a38c6",
   "metadata": {},
   "outputs": [],
   "source": [
    "import pandas as pd\n",
    "import numpy as np\n",
    "import seaborn as sns\n",
    "from matplotlib import pyplot as plt"
   ]
  },
  {
   "cell_type": "code",
   "execution_count": 7,
   "id": "6d2ca874",
   "metadata": {},
   "outputs": [],
   "source": [
    "dt_links=pd.read_csv(\"links.csv\",encoding=\"utf-8\")\n",
    "dt_movies=pd.read_csv(\"movies.csv\",encoding=\"utf-8\")\n",
    "dt_tags=pd.read_csv(\"tags.csv\",encoding=\"utf-8\")\n",
    "dt_ratings=pd.read_csv(\"ratings.csv\",encoding=\"utf-8\")"
   ]
  },
  {
   "cell_type": "markdown",
   "id": "93d23b1c",
   "metadata": {},
   "source": [
    "### EDA"
   ]
  },
  {
   "cell_type": "code",
   "execution_count": 9,
   "id": "2a5eb54f",
   "metadata": {},
   "outputs": [
    {
     "data": {
      "text/html": [
       "<div>\n",
       "<style scoped>\n",
       "    .dataframe tbody tr th:only-of-type {\n",
       "        vertical-align: middle;\n",
       "    }\n",
       "\n",
       "    .dataframe tbody tr th {\n",
       "        vertical-align: top;\n",
       "    }\n",
       "\n",
       "    .dataframe thead th {\n",
       "        text-align: right;\n",
       "    }\n",
       "</style>\n",
       "<table border=\"1\" class=\"dataframe\">\n",
       "  <thead>\n",
       "    <tr style=\"text-align: right;\">\n",
       "      <th></th>\n",
       "      <th>movieId</th>\n",
       "      <th>title</th>\n",
       "      <th>genres</th>\n",
       "    </tr>\n",
       "  </thead>\n",
       "  <tbody>\n",
       "    <tr>\n",
       "      <th>0</th>\n",
       "      <td>1</td>\n",
       "      <td>Toy Story (1995)</td>\n",
       "      <td>Adventure|Animation|Children|Comedy|Fantasy</td>\n",
       "    </tr>\n",
       "    <tr>\n",
       "      <th>1</th>\n",
       "      <td>2</td>\n",
       "      <td>Jumanji (1995)</td>\n",
       "      <td>Adventure|Children|Fantasy</td>\n",
       "    </tr>\n",
       "    <tr>\n",
       "      <th>2</th>\n",
       "      <td>3</td>\n",
       "      <td>Grumpier Old Men (1995)</td>\n",
       "      <td>Comedy|Romance</td>\n",
       "    </tr>\n",
       "    <tr>\n",
       "      <th>3</th>\n",
       "      <td>4</td>\n",
       "      <td>Waiting to Exhale (1995)</td>\n",
       "      <td>Comedy|Drama|Romance</td>\n",
       "    </tr>\n",
       "    <tr>\n",
       "      <th>4</th>\n",
       "      <td>5</td>\n",
       "      <td>Father of the Bride Part II (1995)</td>\n",
       "      <td>Comedy</td>\n",
       "    </tr>\n",
       "  </tbody>\n",
       "</table>\n",
       "</div>"
      ],
      "text/plain": [
       "   movieId                               title  \\\n",
       "0        1                    Toy Story (1995)   \n",
       "1        2                      Jumanji (1995)   \n",
       "2        3             Grumpier Old Men (1995)   \n",
       "3        4            Waiting to Exhale (1995)   \n",
       "4        5  Father of the Bride Part II (1995)   \n",
       "\n",
       "                                        genres  \n",
       "0  Adventure|Animation|Children|Comedy|Fantasy  \n",
       "1                   Adventure|Children|Fantasy  \n",
       "2                               Comedy|Romance  \n",
       "3                         Comedy|Drama|Romance  \n",
       "4                                       Comedy  "
      ]
     },
     "execution_count": 9,
     "metadata": {},
     "output_type": "execute_result"
    }
   ],
   "source": [
    "dt_movies.head(5)\n"
   ]
  },
  {
   "cell_type": "markdown",
   "id": "b5d115e3",
   "metadata": {},
   "source": [
    "### Самые популярные жанры"
   ]
  },
  {
   "cell_type": "code",
   "execution_count": 10,
   "id": "a27c07be",
   "metadata": {
    "scrolled": true
   },
   "outputs": [
    {
     "data": {
      "text/plain": [
       "<BarContainer object of 19 artists>"
      ]
     },
     "execution_count": 10,
     "metadata": {},
     "output_type": "execute_result"
    },
    {
     "data": {
      "image/png": "[encoded data removed]",
      "text/plain": [
       "<Figure size 1440x504 with 1 Axes>"
      ]
     },
     "metadata": {
      "needs_background": "light"
     },
     "output_type": "display_data"
    }
   ],
   "source": [
    "plt.figure(figsize=(20,7))\n",
    "generlist = dt_movies['genres'].apply(lambda generlist_movie : str(generlist_movie).split(\"|\"))\n",
    "geners_count = {}\n",
    "\n",
    "for generlist_movie in generlist:\n",
    "    for gener in generlist_movie:\n",
    "        if(geners_count.get(gener,False)):\n",
    "            geners_count[gener]=geners_count[gener]+1\n",
    "        else:\n",
    "            geners_count[gener] = 1       \n",
    "geners_count.pop(\"(no genres listed)\")\n",
    "plt.bar(geners_count.keys(),geners_count.values(),color='m')"
   ]
  },
  {
   "cell_type": "markdown",
   "id": "9949ed71",
   "metadata": {},
   "source": [
    "Распределение проставленных рейтинго"
   ]
  },
  {
   "cell_type": "code",
   "execution_count": 13,
   "id": "b3211ac6",
   "metadata": {},
   "outputs": [
    {
     "data": {
      "image/png": "[encoded data removed]",
      "text/plain": [
       "<Figure size 360x360 with 1 Axes>"
      ]
     },
     "metadata": {
      "needs_background": "light"
     },
     "output_type": "display_data"
    }
   ],
   "source": [
    "sns.displot(dt_ratings[\"rating\"]);\n"
   ]
  },
  {
   "cell_type": "markdown",
   "id": "95db2cbf",
   "metadata": {},
   "source": [
    "Пользовтели оценившие больше всего фильмов"
   ]
  },
  {
   "cell_type": "code",
   "execution_count": 39,
   "id": "1127f062",
   "metadata": {
    "scrolled": true
   },
   "outputs": [
    {
     "data": {
      "text/plain": [
       "<AxesSubplot:ylabel='userId'>"
      ]
     },
     "execution_count": 39,
     "metadata": {},
     "output_type": "execute_result"
    },
    {
     "data": {
      "image/png": "[encoded data removed]",
      "text/plain": [
       "<Figure size 432x288 with 1 Axes>"
      ]
     },
     "metadata": {
      "needs_background": "light"
     },
     "output_type": "display_data"
    }
   ],
   "source": [
    "merge_ratings_movies = pd.merge(dt_movies, dt_ratings, on='movieId', how='inner').drop('timestamp', axis=1)\n",
    "ratings_grouped_by_users = merge_ratings_movies.groupby('userId').agg([np.size, np.mean]).drop('movieId', axis = 1)\n",
    "ratings_grouped_by_users['rating']['size'].sort_values(ascending=False).head(10).plot(kind='barh')\n"
   ]
  },
  {
   "cell_type": "markdown",
   "id": "c4c60af3",
   "metadata": {},
   "source": [
    "Фильм с наивысшим рейтингом"
   ]
  },
  {
   "cell_type": "code",
   "execution_count": 35,
   "id": "f6d83cd1",
   "metadata": {
    "scrolled": true
   },
   "outputs": [
    {
     "data": {
      "text/plain": [
       "<AxesSubplot:ylabel='movieId'>"
      ]
     },
     "execution_count": 35,
     "metadata": {},
     "output_type": "execute_result"
    },
    {
     "data": {
      "image/png": "[encoded data removed]",
      "text/plain": [
       "<Figure size 504x432 with 1 Axes>"
      ]
     },
     "metadata": {
      "needs_background": "light"
     },
     "output_type": "display_data"
    }
   ],
   "source": [
    "ratings_grouped_by_movies = merge_ratings_movies.groupby('movieId').agg([np.mean], np.size).drop('userId', axis=1)\n",
    "ratings_grouped_by_movies['rating']['mean'].sort_values(ascending=False).head(10).plot(kind='barh', figsize=(7,6))\n"
   ]
  },
  {
   "cell_type": "markdown",
   "id": "0995927c",
   "metadata": {},
   "source": [
    "Худшие фильмы в плане рейтинга"
   ]
  },
  {
   "cell_type": "code",
   "execution_count": 40,
   "id": "ba1e7bc1",
   "metadata": {
    "scrolled": true
   },
   "outputs": [
    {
     "data": {
      "text/plain": [
       "<AxesSubplot:ylabel='movieId'>"
      ]
     },
     "execution_count": 40,
     "metadata": {},
     "output_type": "execute_result"
    },
    {
     "data": {
      "image/png": "[encoded data removed]",
      "text/plain": [
       "<Figure size 504x360 with 1 Axes>"
      ]
     },
     "metadata": {
      "needs_background": "light"
     },
     "output_type": "display_data"
    }
   ],
   "source": [
    "low_rated_movies_filter = ratings_grouped_by_movies['rating']['mean']< 1.5\n",
    "low_rated_movies = ratings_grouped_by_movies[low_rated_movies_filter]\n",
    "low_rated_movies.head(20).plot(kind='barh', figsize=(7,5))"
   ]
  },
  {
   "cell_type": "code",
   "execution_count": 43,
   "id": "10912434",
   "metadata": {},
   "outputs": [
    {
     "data": {
      "text/plain": [
       "296"
      ]
     },
     "execution_count": 43,
     "metadata": {},
     "output_type": "execute_result"
    }
   ],
   "source": [
    "low_rated_movies.shape[0]"
   ]
  }
 ],
 "metadata": {
  "kernelspec": {
   "display_name": "Python 3",
   "language": "python",
   "name": "python3"
  },
  "language_info": {
   "codemirror_mode": {
    "name": "ipython",
    "version": 3
   },
   "file_extension": ".py",
   "mimetype": "text/x-python",
   "name": "python",
   "nbconvert_exporter": "python",
   "pygments_lexer": "ipython3",
   "version": "3.7.6"
  }
 },
 "nbformat": 4,
 "nbformat_minor": 5
}
