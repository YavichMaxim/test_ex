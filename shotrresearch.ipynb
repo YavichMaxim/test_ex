{
 "cells": [
  {
   "cell_type": "markdown",
   "id": "d86c8322",
   "metadata": {},
   "source": [
    "# Обзор предментной области"
   ]
  },
  {
   "cell_type": "markdown",
   "id": "63a39342",
   "metadata": {},
   "source": [
    "## рассмотрим три основных подохода в системе рекомендаций\n",
    " ##### --- Demographic Filtering: Простой подоход, в основе которого мы делим пользователей на демографические группы, и считаем что пользоввателям из одной группы нужно рекомендовать одно и тоже\n",
    "#####  --- Content Based Filtering: В основе такоо подхода лежит идея, что пользатель которому нравится какой-то экземпляр, понравится и экземпляр похожий на первый \n",
    "##### --- Collaborative Filtering: Этот подход похож на первый, но теперь мы ищем похожих на него пользвателей, и рекомендуем те же экзмепляры, котоыре понравились похожим пользователям, тут похожее подразумеват в области интересов, а не демографических показателей\n"
   ]
  },
  {
   "cell_type": "markdown",
   "id": "78911ad6",
   "metadata": {},
   "source": [
    "![Sota](contentandfiltr.png)"
   ]
  },
  {
   "cell_type": "markdown",
   "id": "11efbae9",
   "metadata": {},
   "source": [
    "В основе определения similarity обычно используется cosine similarity метрика"
   ]
  },
  {
   "cell_type": "markdown",
   "id": "a114b07c",
   "metadata": {},
   "source": [
    "![cosine](cosine.png)"
   ]
  },
  {
   "cell_type": "markdown",
   "id": "e010a294",
   "metadata": {},
   "source": [
    "### В настоящее время самые используемые подходы это различные комбинации 2 и 3 подходов"
   ]
  },
  {
   "cell_type": "markdown",
   "id": "504e7cee",
   "metadata": {},
   "source": [
    "пример библиотеки с самыми используемыми подходами https://surprise.readthedocs.io/en/stable/"
   ]
  },
  {
   "cell_type": "markdown",
   "id": "eb3e5d94",
   "metadata": {},
   "source": [
    "В качестве подходящей метрики для нашей задачи будем использввать nDCG, это позволит нам оценить насколько релеванты результаты нашей системы "
   ]
  },
  {
   "cell_type": "markdown",
   "id": "26f4518a",
   "metadata": {},
   "source": [
    "![Sota](moviesota.png)"
   ]
  },
  {
   "cell_type": "markdown",
   "id": "85ed8288",
   "metadata": {},
   "source": [
    "SASRec показывает лучшие результаты чем  CNN/RNN модели в этой метрике"
   ]
  },
  {
   "cell_type": "markdown",
   "id": "c20b76b7",
   "metadata": {},
   "source": [
    "![metric](metric.png)"
   ]
  }
 ],
 "metadata": {
  "kernelspec": {
   "display_name": "Python 3",
   "language": "python",
   "name": "python3"
  },
  "language_info": {
   "codemirror_mode": {
    "name": "ipython",
    "version": 3
   },
   "file_extension": ".py",
   "mimetype": "text/x-python",
   "name": "python",
   "nbconvert_exporter": "python",
   "pygments_lexer": "ipython3",
   "version": "3.7.6"
  }
 },
 "nbformat": 4,
 "nbformat_minor": 5
}
